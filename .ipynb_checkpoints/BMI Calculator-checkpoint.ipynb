{
 "cells": [
  {
   "cell_type": "code",
   "execution_count": null,
   "id": "36c3bcfa-7758-4397-90f8-f480bc6c4a18",
   "metadata": {},
   "outputs": [],
   "source": [
    "#BMI Calculator"
   ]
  },
  {
   "cell_type": "code",
   "execution_count": 36,
   "id": "f4b6afc5-a08d-4315-ac12-0a48d77ee0c3",
   "metadata": {},
   "outputs": [
    {
     "name": "stdin",
     "output_type": "stream",
     "text": [
      "Enter your name: Maria\n",
      "Enter your weight in pounds: 170\n",
      "Enter your height in inches: 69\n"
     ]
    },
    {
     "name": "stdout",
     "output_type": "stream",
     "text": [
      "25.101869355177485\n",
      "Maria, you are Overweight. You need to excercise, stop being lazy or you will turn into potato, actually not, because you are already is... hahahahahhaha\n"
     ]
    }
   ],
   "source": [
    "name = input(\"Enter your name:\")\n",
    "weight = int(input(\"Enter your weight in pounds:\"))\n",
    "\n",
    "height = int(input(\"Enter your height in inches:\"))\n",
    "\n",
    "BMI = (weight * 703) / (height * height)\n",
    "\n",
    "print(BMI)\n",
    "\n",
    "if BMI>0:\n",
    "    if(BMI<18.5):\n",
    "      print(name + \", you are underweight.\")\n",
    "    elif(BMI<=24.9):\n",
    "      print(name + \", you are Normal Weight.\")\n",
    "    elif(BMI<=29.9):\n",
    "      print(name + \", you are Overweight. You need to excercise, stop being lazy or you will turn into potato, actually not, because you are already is... hahahahahhaha\")\n",
    "    elif(BMI<=34.9):\n",
    "      print(name + \", you are Obese.\")\n",
    "    elif(BMI<=39.9):\n",
    "      print(name + \", you are Severely Obese.\")\n",
    "    else:\n",
    "        print(\"You are Morbidly Obese.\")\n",
    "\n",
    "else:\n",
    "    print(\"Enter valid inputs.\")"
   ]
  },
  {
   "cell_type": "code",
   "execution_count": null,
   "id": "85409ac5-632d-4e75-8f86-7f067df8468b",
   "metadata": {},
   "outputs": [],
   "source": []
  },
  {
   "cell_type": "code",
   "execution_count": 4,
   "id": "15957080-eb04-45b7-9e64-1999fc8154be",
   "metadata": {},
   "outputs": [
    {
     "name": "stdout",
     "output_type": "stream",
     "text": [
      "170\n"
     ]
    }
   ],
   "source": [
    "print(weight)"
   ]
  },
  {
   "cell_type": "code",
   "execution_count": null,
   "id": "86b2587b-a35d-4559-8b48-f0caf64f3314",
   "metadata": {},
   "outputs": [],
   "source": [
    "Under 18.5\tUnderweight\tMinimal\n",
    "18.5 - 24.9\tNormal Weight\tMinimal\n",
    "25 - 29.9\tOverweight\tIncreased\n",
    "30 - 34.9\tObese\tHigh\n",
    "35 - 39.9\tSeverely Obese\tVery High\n",
    "40 and over\tMorbidly Obese\tExtremely High"
   ]
  },
  {
   "cell_type": "code",
   "execution_count": 31,
   "id": "dfcae5cd-630e-490e-8d29-0c8b86a8f8c5",
   "metadata": {},
   "outputs": [
    {
     "name": "stdout",
     "output_type": "stream",
     "text": [
      "Maria, you are Overweight.\n"
     ]
    }
   ],
   "source": [
    "if BMI>0:\n",
    "    if(BMI<18.5):\n",
    "      print(name + \", you are underweight.\")\n",
    "    elif(BMI<=24.9):\n",
    "      print(name + \", you are Normal Weight.\")\n",
    "    elif(BMI<=29.9):\n",
    "      print(name + \", you are Overweight.\")\n",
    "    elif(BMI<=34.9):\n",
    "      print(name + \", you are Obese.\")\n",
    "    elif(BMI<=39.9):\n",
    "      print(name + \", you are Severely Obese.\")\n",
    "    else:\n",
    "        print(\"You are Morbidly Obese.\")\n",
    "\n",
    "else:\n",
    "    print(\"Enter valid inputs.\")\n",
    "    "
   ]
  }
 ],
 "metadata": {
  "kernelspec": {
   "display_name": "Python [conda env:base] *",
   "language": "python",
   "name": "conda-base-py"
  },
  "language_info": {
   "codemirror_mode": {
    "name": "ipython",
    "version": 3
   },
   "file_extension": ".py",
   "mimetype": "text/x-python",
   "name": "python",
   "nbconvert_exporter": "python",
   "pygments_lexer": "ipython3",
   "version": "3.13.5"
  }
 },
 "nbformat": 4,
 "nbformat_minor": 5
}
