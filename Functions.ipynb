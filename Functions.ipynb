{
 "cells": [
  {
   "cell_type": "code",
   "execution_count": null,
   "id": "1a237c02-c4a0-4f99-bf57-fbb365f1b017",
   "metadata": {},
   "outputs": [],
   "source": [
    "#Functions in python\n",
    "#block of code only run when we called\n",
    "\n",
    "#What is a Function?\n",
    "\n",
    "#A function in Python is like a small machine (or a reusable block of code) that does a specific task.\n",
    "\n",
    "#You define it once.\n",
    "\n",
    "#You can use (call) it as many times as you want.\n",
    "\n",
    "#It helps keep your code organized, avoids repetition, and makes your programs easier to understand."
   ]
  },
  {
   "cell_type": "code",
   "execution_count": 1,
   "id": "ca1ee308-25cc-4bda-a8b5-4718908d0ef8",
   "metadata": {},
   "outputs": [],
   "source": [
    "def first_fun():\n",
    "    print('we did it')"
   ]
  },
  {
   "cell_type": "code",
   "execution_count": 2,
   "id": "df851178-6cec-4c54-8b23-a6a576206134",
   "metadata": {},
   "outputs": [
    {
     "name": "stdout",
     "output_type": "stream",
     "text": [
      "we did it\n"
     ]
    }
   ],
   "source": [
    "first_fun()"
   ]
  },
  {
   "cell_type": "code",
   "execution_count": 3,
   "id": "e49c4e35-375b-4fe7-bc9f-96e055819a58",
   "metadata": {},
   "outputs": [],
   "source": [
    "def number_squared(number):\n",
    "    print(number**2)"
   ]
  },
  {
   "cell_type": "code",
   "execution_count": 4,
   "id": "9a62083a-2dba-4149-8a9f-b63221c32360",
   "metadata": {},
   "outputs": [
    {
     "name": "stdout",
     "output_type": "stream",
     "text": [
      "25\n"
     ]
    }
   ],
   "source": [
    "number_squared(5)"
   ]
  },
  {
   "cell_type": "code",
   "execution_count": 5,
   "id": "91d4f49b-f293-487a-8387-f31b9ac714de",
   "metadata": {},
   "outputs": [],
   "source": [
    "def number_squared_cust(number,power):\n",
    "    print(number**power)"
   ]
  },
  {
   "cell_type": "code",
   "execution_count": 6,
   "id": "c7d2663a-8836-41a1-b23e-e5f2eb209f0a",
   "metadata": {},
   "outputs": [
    {
     "name": "stdout",
     "output_type": "stream",
     "text": [
      "125\n"
     ]
    }
   ],
   "source": [
    "number_squared_cust(5,3)"
   ]
  },
  {
   "cell_type": "code",
   "execution_count": 10,
   "id": "c17052e4-8e88-403a-a197-45e2bfaeee60",
   "metadata": {},
   "outputs": [],
   "source": [
    "#arbitrary arguments\n",
    "\n",
    "args_tuple = (5,6,1,2,8)\n",
    "\n",
    "def number_args(*number):\n",
    "    print(number[0]*number[1])"
   ]
  },
  {
   "cell_type": "code",
   "execution_count": 12,
   "id": "ec034470-f168-495c-9fad-d6d919995eb5",
   "metadata": {},
   "outputs": [
    {
     "name": "stdout",
     "output_type": "stream",
     "text": [
      "30\n"
     ]
    }
   ],
   "source": [
    "number_args(*args_tuple)"
   ]
  },
  {
   "cell_type": "code",
   "execution_count": null,
   "id": "956f5d2b-4093-48ed-aa85-8ae57b27bfe0",
   "metadata": {},
   "outputs": [],
   "source": [
    "def number_squared_cust(number,power):\n",
    "    print(number**power)"
   ]
  },
  {
   "cell_type": "code",
   "execution_count": 13,
   "id": "6b216472-eab7-41f3-9719-e7349702095b",
   "metadata": {},
   "outputs": [
    {
     "name": "stdout",
     "output_type": "stream",
     "text": [
      "243\n"
     ]
    }
   ],
   "source": [
    "number_squared_cust(power = 5,number = 3)"
   ]
  },
  {
   "cell_type": "code",
   "execution_count": 21,
   "id": "24ffd2dc-27ab-40c0-8268-581253acfa41",
   "metadata": {},
   "outputs": [],
   "source": [
    "def number_kwarg(**number):\n",
    "    print('my number is:' + number['integer'] + 'my other number:' + number['integer2'])"
   ]
  },
  {
   "cell_type": "code",
   "execution_count": 22,
   "id": "72a86dca-bd33-40e4-a38f-8ee9289d3b0e",
   "metadata": {},
   "outputs": [
    {
     "name": "stdout",
     "output_type": "stream",
     "text": [
      "my number is:2309my other number:349\n"
     ]
    }
   ],
   "source": [
    "number_kwarg(integer = '2309' , integer2 = '349')"
   ]
  },
  {
   "cell_type": "code",
   "execution_count": 23,
   "id": "1ec04c5a-d767-434d-a843-79083a5c8935",
   "metadata": {},
   "outputs": [],
   "source": [
    "#Functions with Parameters\n",
    "#You can give functions inputs (like ingredients to a recipe).\n",
    "\n",
    "def greet(name):\n",
    "    print(\"Hello,\", name, \"!\")"
   ]
  },
  {
   "cell_type": "code",
   "execution_count": 24,
   "id": "5fa8eb40-8931-4e0d-8513-e56490363bbb",
   "metadata": {},
   "outputs": [
    {
     "name": "stdout",
     "output_type": "stream",
     "text": [
      "Hello, Maria !\n"
     ]
    }
   ],
   "source": [
    "greet(\"Maria\")"
   ]
  },
  {
   "cell_type": "code",
   "execution_count": 25,
   "id": "cc3ec514-d978-474d-86b0-3bc375a24cc1",
   "metadata": {},
   "outputs": [],
   "source": [
    "#Functions with Return Values\n",
    "#Sometimes a function gives back a result using return.\n",
    "\n",
    "def add(a,b):\n",
    "    return a+ b"
   ]
  },
  {
   "cell_type": "code",
   "execution_count": 26,
   "id": "526ce36a-cdad-46d4-ad16-75604e7ba322",
   "metadata": {},
   "outputs": [
    {
     "name": "stdout",
     "output_type": "stream",
     "text": [
      "8\n"
     ]
    }
   ],
   "source": [
    "result = add(3,5)\n",
    "print(result)"
   ]
  },
  {
   "cell_type": "code",
   "execution_count": null,
   "id": "9fe013a7-a092-449c-8b70-af0f269a56b2",
   "metadata": {},
   "outputs": [],
   "source": [
    "#Why Functions are Useful\n",
    "\n",
    "#Reusability → Write once, use many times.\n",
    "#Organization → Breaks big problems into smaller pieces.\n",
    "#Flexibility → Can take inputs and give outputs.\n",
    "#Readability → Makes code cleaner and easier to understand."
   ]
  },
  {
   "cell_type": "code",
   "execution_count": null,
   "id": "f9789f89-f06c-42cf-813c-2989dd938489",
   "metadata": {},
   "outputs": [],
   "source": [
    "#👉 Think of a function like a vending machine:\n",
    "\n",
    "#You put something in (coins / inputs).\n",
    "#It processes it (the code inside).\n",
    "#You get something out (snack / output)."
   ]
  }
 ],
 "metadata": {
  "kernelspec": {
   "display_name": "Python [conda env:base] *",
   "language": "python",
   "name": "conda-base-py"
  },
  "language_info": {
   "codemirror_mode": {
    "name": "ipython",
    "version": 3
   },
   "file_extension": ".py",
   "mimetype": "text/x-python",
   "name": "python",
   "nbconvert_exporter": "python",
   "pygments_lexer": "ipython3",
   "version": "3.13.5"
  }
 },
 "nbformat": 4,
 "nbformat_minor": 5
}
