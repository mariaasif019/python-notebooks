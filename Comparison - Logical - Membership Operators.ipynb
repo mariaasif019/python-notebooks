{
 "cells": [
  {
   "cell_type": "code",
   "execution_count": null,
   "id": "02f5a733-7274-4d43-92b4-bfcb339e7aad",
   "metadata": {},
   "outputs": [],
   "source": [
    "#Comparison operators\n",
    "\n",
    "# operators (==[Equal], !=[Not equal], >[Greater than], <[Less than], >=[Greater than or equal to], <=[Less than or equal to])"
   ]
  },
  {
   "cell_type": "code",
   "execution_count": 2,
   "id": "079bfa74-8b57-492d-9d73-73d0d1eb0a60",
   "metadata": {},
   "outputs": [
    {
     "data": {
      "text/plain": [
       "True"
      ]
     },
     "execution_count": 2,
     "metadata": {},
     "output_type": "execute_result"
    }
   ],
   "source": [
    "10 == 10"
   ]
  },
  {
   "cell_type": "code",
   "execution_count": 3,
   "id": "b9f376f0-214c-46f1-a303-303bd99a0da9",
   "metadata": {},
   "outputs": [
    {
     "data": {
      "text/plain": [
       "False"
      ]
     },
     "execution_count": 3,
     "metadata": {},
     "output_type": "execute_result"
    }
   ],
   "source": [
    "10 == 50"
   ]
  },
  {
   "cell_type": "code",
   "execution_count": 4,
   "id": "8ba24a71-09e4-4cc4-9414-b8b8465d8577",
   "metadata": {},
   "outputs": [
    {
     "data": {
      "text/plain": [
       "True"
      ]
     },
     "execution_count": 4,
     "metadata": {},
     "output_type": "execute_result"
    }
   ],
   "source": [
    "10 != 50"
   ]
  },
  {
   "cell_type": "code",
   "execution_count": 5,
   "id": "c409ad1d-02f4-458f-bac6-d196d4a58926",
   "metadata": {},
   "outputs": [
    {
     "data": {
      "text/plain": [
       "True"
      ]
     },
     "execution_count": 5,
     "metadata": {},
     "output_type": "execute_result"
    }
   ],
   "source": [
    "'Vanilla' != 50"
   ]
  },
  {
   "cell_type": "code",
   "execution_count": 6,
   "id": "981fd1f9-4523-4c2b-b1a2-99901ae3dd92",
   "metadata": {},
   "outputs": [
    {
     "data": {
      "text/plain": [
       "False"
      ]
     },
     "execution_count": 6,
     "metadata": {},
     "output_type": "execute_result"
    }
   ],
   "source": [
    "1 > 5"
   ]
  },
  {
   "cell_type": "code",
   "execution_count": 7,
   "id": "e775973a-4967-42e2-b1ac-ecc3230f2034",
   "metadata": {},
   "outputs": [
    {
     "data": {
      "text/plain": [
       "True"
      ]
     },
     "execution_count": 7,
     "metadata": {},
     "output_type": "execute_result"
    }
   ],
   "source": [
    "5 > 1"
   ]
  },
  {
   "cell_type": "code",
   "execution_count": 8,
   "id": "9cc39201-625c-456f-ab48-2ce353b6860b",
   "metadata": {},
   "outputs": [
    {
     "data": {
      "text/plain": [
       "True"
      ]
     },
     "execution_count": 8,
     "metadata": {},
     "output_type": "execute_result"
    }
   ],
   "source": [
    "1 < 6"
   ]
  },
  {
   "cell_type": "code",
   "execution_count": 9,
   "id": "201a15dc-fd4b-4587-b24b-edda656bba1d",
   "metadata": {},
   "outputs": [
    {
     "ename": "TypeError",
     "evalue": "'<' not supported between instances of 'int' and 'str'",
     "output_type": "error",
     "traceback": [
      "\u001b[1;31m---------------------------------------------------------------------------\u001b[0m",
      "\u001b[1;31mTypeError\u001b[0m                                 Traceback (most recent call last)",
      "Cell \u001b[1;32mIn[9], line 1\u001b[0m\n\u001b[1;32m----> 1\u001b[0m \u001b[38;5;241m10\u001b[39m \u001b[38;5;241m<\u001b[39m \u001b[38;5;124m'\u001b[39m\u001b[38;5;124mVanilla\u001b[39m\u001b[38;5;124m'\u001b[39m\n",
      "\u001b[1;31mTypeError\u001b[0m: '<' not supported between instances of 'int' and 'str'"
     ]
    }
   ],
   "source": [
    "10 < 'Vanilla'\n",
    "\n",
    "#Eventually it will not work"
   ]
  },
  {
   "cell_type": "code",
   "execution_count": 10,
   "id": "c9d022c0-8ed8-4fa9-95aa-cf30ed9cf815",
   "metadata": {},
   "outputs": [
    {
     "data": {
      "text/plain": [
       "False"
      ]
     },
     "execution_count": 10,
     "metadata": {},
     "output_type": "execute_result"
    }
   ],
   "source": [
    "1 >= 8"
   ]
  },
  {
   "cell_type": "code",
   "execution_count": 11,
   "id": "e402af3e-cd7f-4b9c-830f-fffab3d3e2fb",
   "metadata": {},
   "outputs": [
    {
     "data": {
      "text/plain": [
       "True"
      ]
     },
     "execution_count": 11,
     "metadata": {},
     "output_type": "execute_result"
    }
   ],
   "source": [
    "8 >= 8"
   ]
  },
  {
   "cell_type": "code",
   "execution_count": 12,
   "id": "e27815a5-cd94-41a8-8c78-686ac988553e",
   "metadata": {},
   "outputs": [
    {
     "data": {
      "text/plain": [
       "True"
      ]
     },
     "execution_count": 12,
     "metadata": {},
     "output_type": "execute_result"
    }
   ],
   "source": [
    "1 <= 8"
   ]
  },
  {
   "cell_type": "code",
   "execution_count": 13,
   "id": "78cfd0f6-f57c-4b12-b2fb-1dc19b0953f8",
   "metadata": {},
   "outputs": [
    {
     "data": {
      "text/plain": [
       "True"
      ]
     },
     "execution_count": 13,
     "metadata": {},
     "output_type": "execute_result"
    }
   ],
   "source": [
    "10 <= 15"
   ]
  },
  {
   "cell_type": "code",
   "execution_count": 14,
   "id": "c5abc769-2d11-4bb0-b07c-5e5829e8852b",
   "metadata": {},
   "outputs": [
    {
     "data": {
      "text/plain": [
       "False"
      ]
     },
     "execution_count": 14,
     "metadata": {},
     "output_type": "execute_result"
    }
   ],
   "source": [
    "20 <= 15"
   ]
  },
  {
   "cell_type": "code",
   "execution_count": 15,
   "id": "c32b661d-9aa1-4f2f-bbc9-b04cfb47491a",
   "metadata": {},
   "outputs": [
    {
     "data": {
      "text/plain": [
       "False"
      ]
     },
     "execution_count": 15,
     "metadata": {},
     "output_type": "execute_result"
    }
   ],
   "source": [
    "x = 'Cake'\n",
    "y = 'Ice_cream'\n",
    "\n",
    "x == y"
   ]
  },
  {
   "cell_type": "code",
   "execution_count": 16,
   "id": "32d4de01-6d76-40ba-a1cd-6c68da81f3bf",
   "metadata": {},
   "outputs": [
    {
     "data": {
      "text/plain": [
       "True"
      ]
     },
     "execution_count": 16,
     "metadata": {},
     "output_type": "execute_result"
    }
   ],
   "source": [
    "x = 'Cake'\n",
    "y = 'Ice_cream'\n",
    "\n",
    "x != y"
   ]
  },
  {
   "cell_type": "code",
   "execution_count": 17,
   "id": "d3d10f0e-c765-4ed7-8ef3-bdf453823215",
   "metadata": {},
   "outputs": [
    {
     "data": {
      "text/plain": [
       "False"
      ]
     },
     "execution_count": 17,
     "metadata": {},
     "output_type": "execute_result"
    }
   ],
   "source": [
    "x = 'Cake'\n",
    "y = 'Ice_cream'\n",
    "\n",
    "x > y"
   ]
  },
  {
   "cell_type": "code",
   "execution_count": 18,
   "id": "13b460e7-af6a-4a55-8081-5249ac9b543b",
   "metadata": {},
   "outputs": [
    {
     "data": {
      "text/plain": [
       "True"
      ]
     },
     "execution_count": 18,
     "metadata": {},
     "output_type": "execute_result"
    }
   ],
   "source": [
    "x = 'Cake'\n",
    "y = 'Ice_cream'\n",
    "\n",
    "x < y"
   ]
  },
  {
   "cell_type": "code",
   "execution_count": 19,
   "id": "20c84308-4b49-4dba-ba55-d9b6f08b5bc6",
   "metadata": {},
   "outputs": [
    {
     "data": {
      "text/plain": [
       "True"
      ]
     },
     "execution_count": 19,
     "metadata": {},
     "output_type": "execute_result"
    }
   ],
   "source": [
    "x = 'Cake'\n",
    "y = 'Ice_cream'\n",
    "\n",
    "x <= y"
   ]
  },
  {
   "cell_type": "code",
   "execution_count": null,
   "id": "c9603191-2645-4822-84c2-80f46efe6995",
   "metadata": {},
   "outputs": [],
   "source": [
    "#Logical operators\n",
    "\n",
    "#and[Returns true if both statements are true], or[Returns true if one statement is true], not[Reserve the result, return false if the result is true]"
   ]
  },
  {
   "cell_type": "code",
   "execution_count": 20,
   "id": "24254eab-9725-4d6a-9b66-3426c5dde9b9",
   "metadata": {},
   "outputs": [
    {
     "data": {
      "text/plain": [
       "False"
      ]
     },
     "execution_count": 20,
     "metadata": {},
     "output_type": "execute_result"
    }
   ],
   "source": [
    "10 > 50"
   ]
  },
  {
   "cell_type": "code",
   "execution_count": 21,
   "id": "d95a5bbe-1373-4c9c-99c2-f26433b2a434",
   "metadata": {},
   "outputs": [
    {
     "data": {
      "text/plain": [
       "True"
      ]
     },
     "execution_count": 21,
     "metadata": {},
     "output_type": "execute_result"
    }
   ],
   "source": [
    "(70 > 50) and (50 > 10)"
   ]
  },
  {
   "cell_type": "code",
   "execution_count": 22,
   "id": "f7acec5c-02e2-4e42-b82c-d42b0a4bafb7",
   "metadata": {},
   "outputs": [
    {
     "data": {
      "text/plain": [
       "True"
      ]
     },
     "execution_count": 22,
     "metadata": {},
     "output_type": "execute_result"
    }
   ],
   "source": [
    "(10 > 50) or (50 > 10)"
   ]
  },
  {
   "cell_type": "code",
   "execution_count": 23,
   "id": "af7cc8c3-86de-434b-974e-d2f3b75c29ef",
   "metadata": {},
   "outputs": [
    {
     "data": {
      "text/plain": [
       "True"
      ]
     },
     "execution_count": 23,
     "metadata": {},
     "output_type": "execute_result"
    }
   ],
   "source": [
    "('Vanilla' > 'Chocolate') and (50 > 10)"
   ]
  },
  {
   "cell_type": "code",
   "execution_count": 25,
   "id": "675f9b11-bb6d-4786-ad1f-237d44150d81",
   "metadata": {},
   "outputs": [
    {
     "data": {
      "text/plain": [
       "True"
      ]
     },
     "execution_count": 25,
     "metadata": {},
     "output_type": "execute_result"
    }
   ],
   "source": [
    "('Vanilla' > 'Chocolate') or (5 > 10)"
   ]
  },
  {
   "cell_type": "code",
   "execution_count": 26,
   "id": "8161a78b-ce0d-42ee-9211-6b68761c10f2",
   "metadata": {},
   "outputs": [
    {
     "data": {
      "text/plain": [
       "False"
      ]
     },
     "execution_count": 26,
     "metadata": {},
     "output_type": "execute_result"
    }
   ],
   "source": [
    "not(50 > 10)"
   ]
  },
  {
   "cell_type": "code",
   "execution_count": null,
   "id": "a3269a9f-efc7-4772-911d-587571dc49d6",
   "metadata": {},
   "outputs": [],
   "source": [
    "#Membership operators\n",
    "\n",
    "#in[Returns true if a sequence with the specified value is present in the object], not in[Returns true if a sequence with the specified value is not present in the object]"
   ]
  },
  {
   "cell_type": "code",
   "execution_count": 28,
   "id": "7f9e4c7f-3a12-45d1-a17b-9ac066ff7522",
   "metadata": {},
   "outputs": [
    {
     "data": {
      "text/plain": [
       "True"
      ]
     },
     "execution_count": 28,
     "metadata": {},
     "output_type": "execute_result"
    }
   ],
   "source": [
    "ice_cream = 'I love mango ice_cream'\n",
    "\n",
    "'love' in 'I love mango ice_cream'"
   ]
  },
  {
   "cell_type": "code",
   "execution_count": 29,
   "id": "d13fec37-0bf8-49a5-a7f3-aba6f96f9cfe",
   "metadata": {},
   "outputs": [
    {
     "data": {
      "text/plain": [
       "True"
      ]
     },
     "execution_count": 29,
     "metadata": {},
     "output_type": "execute_result"
    }
   ],
   "source": [
    "scoops = [1,2,3,4,5]\n",
    "\n",
    "2 in scoops"
   ]
  },
  {
   "cell_type": "code",
   "execution_count": 30,
   "id": "2308af6b-d433-4946-83e0-bbf4154104f9",
   "metadata": {},
   "outputs": [
    {
     "data": {
      "text/plain": [
       "True"
      ]
     },
     "execution_count": 30,
     "metadata": {},
     "output_type": "execute_result"
    }
   ],
   "source": [
    "scoops = [1,2,3,4,5]\n",
    "\n",
    "6 not in scoops"
   ]
  },
  {
   "cell_type": "code",
   "execution_count": 31,
   "id": "b2391898-3319-461c-b0d5-0b7207f40626",
   "metadata": {},
   "outputs": [
    {
     "data": {
      "text/plain": [
       "False"
      ]
     },
     "execution_count": 31,
     "metadata": {},
     "output_type": "execute_result"
    }
   ],
   "source": [
    "scoops = [1,2,3,4,5]\n",
    "\n",
    "3 not in scoops"
   ]
  },
  {
   "cell_type": "code",
   "execution_count": 32,
   "id": "d765631f-c2dc-4a1b-9950-001d44a2867b",
   "metadata": {},
   "outputs": [
    {
     "data": {
      "text/plain": [
       "True"
      ]
     },
     "execution_count": 32,
     "metadata": {},
     "output_type": "execute_result"
    }
   ],
   "source": [
    "scoops = [1,2,3,4,5]\n",
    "wanted_scoops = 9\n",
    "\n",
    "wanted_scoops not in scoops"
   ]
  },
  {
   "cell_type": "code",
   "execution_count": 33,
   "id": "880d968c-2bb3-4d4a-bbfe-09fd4235e5e5",
   "metadata": {},
   "outputs": [
    {
     "data": {
      "text/plain": [
       "False"
      ]
     },
     "execution_count": 33,
     "metadata": {},
     "output_type": "execute_result"
    }
   ],
   "source": [
    "scoops = [1,2,3,4,5]\n",
    "wanted_scoops = 9\n",
    "\n",
    "wanted_scoops in scoops"
   ]
  }
 ],
 "metadata": {
  "kernelspec": {
   "display_name": "Python [conda env:base] *",
   "language": "python",
   "name": "conda-base-py"
  },
  "language_info": {
   "codemirror_mode": {
    "name": "ipython",
    "version": 3
   },
   "file_extension": ".py",
   "mimetype": "text/x-python",
   "name": "python",
   "nbconvert_exporter": "python",
   "pygments_lexer": "ipython3",
   "version": "3.13.5"
  }
 },
 "nbformat": 4,
 "nbformat_minor": 5
}
