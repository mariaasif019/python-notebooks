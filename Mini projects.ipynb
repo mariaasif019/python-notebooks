{
 "cells": [
  {
   "cell_type": "code",
   "execution_count": 32,
   "id": "35f85091-eaf2-4ab6-9d19-a4ec7d6db1f8",
   "metadata": {},
   "outputs": [
    {
     "name": "stdout",
     "output_type": "stream",
     "text": [
      "Guess the number!!\n",
      "You have 5 attempts to guess the number between 1 and 100.\n"
     ]
    },
    {
     "name": "stdin",
     "output_type": "stream",
     "text": [
      "Enter your guess: 3\n"
     ]
    },
    {
     "name": "stdout",
     "output_type": "stream",
     "text": [
      "Too low !!\n"
     ]
    },
    {
     "name": "stdin",
     "output_type": "stream",
     "text": [
      "Enter your guess: 35\n"
     ]
    },
    {
     "name": "stdout",
     "output_type": "stream",
     "text": [
      "Too low !!\n"
     ]
    },
    {
     "name": "stdin",
     "output_type": "stream",
     "text": [
      "Enter your guess: 60\n"
     ]
    },
    {
     "name": "stdout",
     "output_type": "stream",
     "text": [
      "Too low !!\n"
     ]
    },
    {
     "name": "stdin",
     "output_type": "stream",
     "text": [
      "Enter your guess: 69\n"
     ]
    },
    {
     "name": "stdout",
     "output_type": "stream",
     "text": [
      "Too low !!\n"
     ]
    },
    {
     "name": "stdin",
     "output_type": "stream",
     "text": [
      "Enter your guess: 99\n"
     ]
    },
    {
     "name": "stdout",
     "output_type": "stream",
     "text": [
      "Too high !!\n",
      "out of attempts ! The number was 89\n"
     ]
    }
   ],
   "source": [
    "import random\n",
    "\n",
    "secret_num = random.randint(1,100)\n",
    "attempts = 0\n",
    "max_attempts = 5\n",
    "\n",
    "print('Guess the number!!')\n",
    "print(f\"You have {max_attempts} attempts to guess the number between 1 and 100.\")\n",
    "\n",
    "while attempts < max_attempts:\n",
    "    guess = int(input('Enter your guess:'))\n",
    "    attempts += 1\n",
    "\n",
    "    if guess < secret_num:\n",
    "        print('Too low !!')\n",
    "    elif guess > secret_num:\n",
    "        print('Too high !!')\n",
    "    else:\n",
    "        print(f\"Congratulation you guess in {attempts} tries.\")\n",
    "        break\n",
    "\n",
    "else:\n",
    "    print(f\"out of attempts ! The number was {secret_num}\")"
   ]
  },
  {
   "cell_type": "code",
   "execution_count": null,
   "id": "f484a580-dbba-4893-a602-7624d234546e",
   "metadata": {},
   "outputs": [],
   "source": []
  },
  {
   "cell_type": "code",
   "execution_count": null,
   "id": "c11006ff-f968-477c-85ad-43c7110469cc",
   "metadata": {},
   "outputs": [
    {
     "name": "stdout",
     "output_type": "stream",
     "text": [
      "🎮 Rock - Paper - Scissors with Score 🎮\n"
     ]
    },
    {
     "name": "stdin",
     "output_type": "stream",
     "text": [
      "Enter rock/paper/scissors or 'q' to quit:  rock\n"
     ]
    },
    {
     "name": "stdout",
     "output_type": "stream",
     "text": [
      "Computer chose: paper\n",
      "❌ Computer wins this round!\n",
      "Score → You: 0 | Computer: 1\n",
      "\n"
     ]
    },
    {
     "name": "stdin",
     "output_type": "stream",
     "text": [
      "Enter rock/paper/scissors or 'q' to quit:  scissors\n"
     ]
    },
    {
     "name": "stdout",
     "output_type": "stream",
     "text": [
      "Computer chose: rock\n",
      "❌ Computer wins this round!\n",
      "Score → You: 0 | Computer: 2\n",
      "\n"
     ]
    },
    {
     "name": "stdin",
     "output_type": "stream",
     "text": [
      "Enter rock/paper/scissors or 'q' to quit:  paper\n"
     ]
    },
    {
     "name": "stdout",
     "output_type": "stream",
     "text": [
      "Computer chose: paper\n",
      "It's a tie!\n",
      "Score → You: 0 | Computer: 2\n",
      "\n"
     ]
    },
    {
     "name": "stdin",
     "output_type": "stream",
     "text": [
      "Enter rock/paper/scissors or 'q' to quit:  paper\n"
     ]
    },
    {
     "name": "stdout",
     "output_type": "stream",
     "text": [
      "Computer chose: rock\n",
      "✅ You win this round!\n",
      "Score → You: 1 | Computer: 2\n",
      "\n"
     ]
    },
    {
     "name": "stdin",
     "output_type": "stream",
     "text": [
      "Enter rock/paper/scissors or 'q' to quit:  rock\n"
     ]
    },
    {
     "name": "stdout",
     "output_type": "stream",
     "text": [
      "Computer chose: scissors\n",
      "✅ You win this round!\n",
      "Score → You: 2 | Computer: 2\n",
      "\n"
     ]
    },
    {
     "name": "stdin",
     "output_type": "stream",
     "text": [
      "Enter rock/paper/scissors or 'q' to quit:  scissors\n"
     ]
    },
    {
     "name": "stdout",
     "output_type": "stream",
     "text": [
      "Computer chose: rock\n",
      "❌ Computer wins this round!\n",
      "Score → You: 2 | Computer: 3\n",
      "\n"
     ]
    },
    {
     "name": "stdin",
     "output_type": "stream",
     "text": [
      "Enter rock/paper/scissors or 'q' to quit:  rock\n"
     ]
    },
    {
     "name": "stdout",
     "output_type": "stream",
     "text": [
      "Computer chose: scissors\n",
      "✅ You win this round!\n",
      "Score → You: 3 | Computer: 3\n",
      "\n"
     ]
    }
   ],
   "source": [
    "import random\n",
    "\n",
    "choices = [\"rock\", \"paper\", \"scissors\"]\n",
    "\n",
    "player_score = 0\n",
    "computer_score = 0\n",
    "\n",
    "print(\"🎮 Rock - Paper - Scissors with Score 🎮\")\n",
    "\n",
    "while True:\n",
    "    player = input(\"Enter rock/paper/scissors or 'q' to quit: \").lower()\n",
    "    if player == \"q\":\n",
    "        print(\"👋 Thanks for playing!\")\n",
    "        break\n",
    "\n",
    "    if player not in choices:\n",
    "        print(\"Invalid choice, try again!\")\n",
    "        continue\n",
    "\n",
    "    computer = random.choice(choices)\n",
    "    print(f\"Computer chose: {computer}\")\n",
    "\n",
    "    if player == computer:\n",
    "        print(\"It's a tie!\")\n",
    "    elif (player == \"rock\" and computer == \"scissors\") or \\\n",
    "         (player == \"paper\" and computer == \"rock\") or \\\n",
    "         (player == \"scissors\" and computer == \"paper\"):\n",
    "        print(\"✅ You win this round!\")\n",
    "        player_score += 1\n",
    "    else:\n",
    "        print(\"❌ Computer wins this round!\")\n",
    "        computer_score += 1\n",
    "\n",
    "    print(f\"Score → You: {player_score} | Computer: {computer_score}\\n\")\n"
   ]
  },
  {
   "cell_type": "code",
   "execution_count": null,
   "id": "8cb1201d-1c36-41ae-8dd6-3b9f1fe00b87",
   "metadata": {},
   "outputs": [],
   "source": []
  }
 ],
 "metadata": {
  "kernelspec": {
   "display_name": "Python [conda env:base] *",
   "language": "python",
   "name": "conda-base-py"
  },
  "language_info": {
   "codemirror_mode": {
    "name": "ipython",
    "version": 3
   },
   "file_extension": ".py",
   "mimetype": "text/x-python",
   "name": "python",
   "nbconvert_exporter": "python",
   "pygments_lexer": "ipython3",
   "version": "3.13.5"
  }
 },
 "nbformat": 4,
 "nbformat_minor": 5
}
