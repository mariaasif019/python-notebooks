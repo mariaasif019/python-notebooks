{
 "cells": [
  {
   "cell_type": "code",
   "execution_count": null,
   "id": "90f0c0ec-948a-42f8-8b0f-22c88fa0a8d0",
   "metadata": {},
   "outputs": [],
   "source": [
    "# Numeric (3 different types: 'int', 'float', 'complex number')"
   ]
  },
  {
   "cell_type": "code",
   "execution_count": 3,
   "id": "ba4eb4d2-7b3c-49b1-bb6a-f94bb0b45c19",
   "metadata": {},
   "outputs": [
    {
     "data": {
      "text/plain": [
       "int"
      ]
     },
     "execution_count": 3,
     "metadata": {},
     "output_type": "execute_result"
    }
   ],
   "source": [
    "type(12 + 100)"
   ]
  },
  {
   "cell_type": "code",
   "execution_count": 4,
   "id": "9e744cbd-c327-4093-8fed-7224dc93aba5",
   "metadata": {},
   "outputs": [
    {
     "data": {
      "text/plain": [
       "float"
      ]
     },
     "execution_count": 4,
     "metadata": {},
     "output_type": "execute_result"
    }
   ],
   "source": [
    "type(-12 + 10.25)\n",
    "\n",
    "# when decimal added it turned into float"
   ]
  },
  {
   "cell_type": "code",
   "execution_count": 5,
   "id": "64f7aa45-8a7e-4a9d-9597-dde062b7e6d4",
   "metadata": {},
   "outputs": [
    {
     "data": {
      "text/plain": [
       "complex"
      ]
     },
     "execution_count": 5,
     "metadata": {},
     "output_type": "execute_result"
    }
   ],
   "source": [
    "type(-12 + 10j)\n",
    "\n",
    "# Complex data type used for imaginary numbers"
   ]
  },
  {
   "cell_type": "code",
   "execution_count": 6,
   "id": "60bd5282-6d9d-4196-9158-895f7865ab8a",
   "metadata": {},
   "outputs": [
    {
     "ename": "SyntaxError",
     "evalue": "invalid decimal literal (2960360066.py, line 3)",
     "output_type": "error",
     "traceback": [
      "\u001b[1;36m  Cell \u001b[1;32mIn[6], line 3\u001b[1;36m\u001b[0m\n\u001b[1;33m    type(-12 + 10c)\u001b[0m\n\u001b[1;37m                ^\u001b[0m\n\u001b[1;31mSyntaxError\u001b[0m\u001b[1;31m:\u001b[0m invalid decimal literal\n"
     ]
    }
   ],
   "source": [
    "# If we will use c or any other alphabet it will not work, only j is workable for complex\n",
    "\n",
    "type(-12 + 10c)"
   ]
  },
  {
   "cell_type": "code",
   "execution_count": 7,
   "id": "84fd2a9c-7e6d-46cc-9437-50e9d1550800",
   "metadata": {},
   "outputs": [
    {
     "data": {
      "text/plain": [
       "bool"
      ]
     },
     "execution_count": 7,
     "metadata": {},
     "output_type": "execute_result"
    }
   ],
   "source": [
    "#Boolean (Only has two build in values either 'True/False')\n",
    "\n",
    "type(True)"
   ]
  },
  {
   "cell_type": "code",
   "execution_count": 8,
   "id": "845a6538-2571-4306-9d23-4d33a364a9e9",
   "metadata": {},
   "outputs": [
    {
     "data": {
      "text/plain": [
       "bool"
      ]
     },
     "execution_count": 8,
     "metadata": {},
     "output_type": "execute_result"
    }
   ],
   "source": [
    "type(1 < 5)"
   ]
  },
  {
   "cell_type": "code",
   "execution_count": 10,
   "id": "de92f194-07ed-432c-b75f-fd3663563bfd",
   "metadata": {},
   "outputs": [
    {
     "data": {
      "text/plain": [
       "False"
      ]
     },
     "execution_count": 10,
     "metadata": {},
     "output_type": "execute_result"
    }
   ],
   "source": [
    "1 > 5"
   ]
  },
  {
   "cell_type": "code",
   "execution_count": 12,
   "id": "d9eafbd9-3f63-47b8-ac99-b824f7be4690",
   "metadata": {},
   "outputs": [
    {
     "data": {
      "text/plain": [
       "True"
      ]
     },
     "execution_count": 12,
     "metadata": {},
     "output_type": "execute_result"
    }
   ],
   "source": [
    "1 == 1"
   ]
  },
  {
   "cell_type": "code",
   "execution_count": 14,
   "id": "b2d5eb3b-26ce-4dea-b9d8-239c201a1722",
   "metadata": {},
   "outputs": [
    {
     "data": {
      "text/plain": [
       "'Single Qoute'"
      ]
     },
     "execution_count": 14,
     "metadata": {},
     "output_type": "execute_result"
    }
   ],
   "source": [
    "# Strings\n",
    "\n",
    "'Single Qoute'"
   ]
  },
  {
   "cell_type": "code",
   "execution_count": 15,
   "id": "698ac698-f5ca-4536-b5e9-56c78e22fd9e",
   "metadata": {},
   "outputs": [
    {
     "data": {
      "text/plain": [
       "'Double Qoute'"
      ]
     },
     "execution_count": 15,
     "metadata": {},
     "output_type": "execute_result"
    }
   ],
   "source": [
    "\"Double Qoute\""
   ]
  },
  {
   "cell_type": "code",
   "execution_count": 29,
   "id": "13049380-415e-4860-bde1-d0edec5fc737",
   "metadata": {},
   "outputs": [],
   "source": [
    "multiline = \"\"\"\n",
    "I just started learning python,\n",
    "and this time i will complete this\n",
    "challenge by hook or truth.\n",
    "\n",
    "\"\"\""
   ]
  },
  {
   "cell_type": "code",
   "execution_count": 30,
   "id": "c880193c-3b93-4c4d-9b90-7ae7e592b59e",
   "metadata": {},
   "outputs": [
    {
     "name": "stdout",
     "output_type": "stream",
     "text": [
      "\n",
      "I just started learning python,\n",
      "and this time i will complete this\n",
      "challenge by hook or truth.\n",
      "\n",
      "\n"
     ]
    }
   ],
   "source": [
    "print(multiline)"
   ]
  },
  {
   "cell_type": "code",
   "execution_count": 31,
   "id": "839c8265-132a-4267-b6b7-aa26f666ff90",
   "metadata": {},
   "outputs": [
    {
     "ename": "_IncompleteInputError",
     "evalue": "incomplete input (1734373604.py, line 4)",
     "output_type": "error",
     "traceback": [
      "\u001b[1;36m  Cell \u001b[1;32mIn[31], line 4\u001b[1;36m\u001b[0m\n\u001b[1;33m    \"\"\"\u001b[0m\n\u001b[1;37m    ^\u001b[0m\n\u001b[1;31m_IncompleteInputError\u001b[0m\u001b[1;31m:\u001b[0m incomplete input\n"
     ]
    }
   ],
   "source": [
    "\"\"\"\n",
    "I like eating \"noodles.\"\"\" #This is wrong\n",
    "\n",
    "\"\"\""
   ]
  },
  {
   "cell_type": "code",
   "execution_count": 2,
   "id": "ddaab08e-070c-43ed-a88e-11dfb7737d27",
   "metadata": {},
   "outputs": [
    {
     "data": {
      "text/plain": [
       "'\\nI like eating \"noodles.\" #This is right\\n\\n'"
      ]
     },
     "execution_count": 2,
     "metadata": {},
     "output_type": "execute_result"
    }
   ],
   "source": [
    "\"\"\"\n",
    "I like eating \"noodles.\" #This is right\n",
    "\n",
    "\"\"\""
   ]
  },
  {
   "cell_type": "code",
   "execution_count": 32,
   "id": "9b36a71b-6bfb-4f45-9741-0ddc5235b079",
   "metadata": {},
   "outputs": [
    {
     "data": {
      "text/plain": [
       "str"
      ]
     },
     "execution_count": 32,
     "metadata": {},
     "output_type": "execute_result"
    }
   ],
   "source": [
    "type(multiline)"
   ]
  },
  {
   "cell_type": "code",
   "execution_count": 33,
   "id": "106d887a-95e8-4d80-8929-45688b58fe2e",
   "metadata": {},
   "outputs": [],
   "source": [
    "# Important thing string can't be index\n",
    "\n",
    "a = 'Hello world'"
   ]
  },
  {
   "cell_type": "code",
   "execution_count": 34,
   "id": "35879dda-0f39-4837-89cb-605bd8437518",
   "metadata": {},
   "outputs": [
    {
     "name": "stdout",
     "output_type": "stream",
     "text": [
      "Hello\n"
     ]
    }
   ],
   "source": [
    "print(a[:5])"
   ]
  },
  {
   "cell_type": "code",
   "execution_count": 35,
   "id": "1fb214c9-087b-477f-adbe-61ec65708551",
   "metadata": {},
   "outputs": [
    {
     "name": "stdout",
     "output_type": "stream",
     "text": [
      " \n"
     ]
    }
   ],
   "source": [
    "print(a[5])\n",
    "\n",
    "#only giving the position 5 which is space"
   ]
  },
  {
   "cell_type": "code",
   "execution_count": 36,
   "id": "38a36784-4d29-40a7-9cd5-dd84bf30a3fd",
   "metadata": {},
   "outputs": [
    {
     "name": "stdout",
     "output_type": "stream",
     "text": [
      "w\n"
     ]
    }
   ],
   "source": [
    "print(a[6])\n",
    "\n",
    "# giving the position 6 which is w"
   ]
  },
  {
   "cell_type": "code",
   "execution_count": 37,
   "id": "16548415-a38f-45a2-8334-637cf0527bd3",
   "metadata": {},
   "outputs": [
    {
     "name": "stdout",
     "output_type": "stream",
     "text": [
      "r\n"
     ]
    }
   ],
   "source": [
    "print(a[-3])\n",
    "\n",
    "# giving the position -3 which is r"
   ]
  },
  {
   "cell_type": "code",
   "execution_count": 38,
   "id": "e7ba9564-1901-489f-bce2-0151e95cf057",
   "metadata": {},
   "outputs": [
    {
     "name": "stdout",
     "output_type": "stream",
     "text": [
      "llo\n"
     ]
    }
   ],
   "source": [
    "print(a[2:5])"
   ]
  },
  {
   "cell_type": "code",
   "execution_count": 39,
   "id": "a380cb96-79dc-4347-a8f8-7c1b1d3d274a",
   "metadata": {},
   "outputs": [
    {
     "data": {
      "text/plain": [
       "'Hello worldHello worldHello world'"
      ]
     },
     "execution_count": 39,
     "metadata": {},
     "output_type": "execute_result"
    }
   ],
   "source": [
    "a*3\n",
    "\n",
    "# it gives us the multiple of whole line 3 times"
   ]
  },
  {
   "cell_type": "code",
   "execution_count": 40,
   "id": "952322de-29e1-40b7-bb38-df3c00b8ef93",
   "metadata": {},
   "outputs": [
    {
     "data": {
      "text/plain": [
       "'Hello worldHello world'"
      ]
     },
     "execution_count": 40,
     "metadata": {},
     "output_type": "execute_result"
    }
   ],
   "source": [
    "a + a"
   ]
  },
  {
   "cell_type": "code",
   "execution_count": null,
   "id": "c652bc71-b2ba-40d7-9b31-8e2b7cd6b561",
   "metadata": {},
   "outputs": [],
   "source": [
    "#string can store one value and multiple characters"
   ]
  },
  {
   "cell_type": "code",
   "execution_count": null,
   "id": "f6c91156-a8a8-4925-b5d8-25a65c20ba1e",
   "metadata": {},
   "outputs": [],
   "source": [
    "#list (can store multiple separate values)"
   ]
  },
  {
   "cell_type": "code",
   "execution_count": 41,
   "id": "93a1476f-2b4e-4e02-9371-88233c87959c",
   "metadata": {},
   "outputs": [
    {
     "data": {
      "text/plain": [
       "[1, 2, 3]"
      ]
     },
     "execution_count": 41,
     "metadata": {},
     "output_type": "execute_result"
    }
   ],
   "source": [
    "#Brackets denote lists\n",
    "\n",
    "[1,2,3]"
   ]
  },
  {
   "cell_type": "code",
   "execution_count": 45,
   "id": "99854969-d9ad-4997-bc61-43c75a0a0715",
   "metadata": {},
   "outputs": [
    {
     "data": {
      "text/plain": [
       "['Cake', 'Chocolate', 3, ['Scoops'], True]"
      ]
     },
     "execution_count": 45,
     "metadata": {},
     "output_type": "execute_result"
    }
   ],
   "source": [
    "['Cake', 'Chocolate', 3,['Scoops'],True]"
   ]
  },
  {
   "cell_type": "code",
   "execution_count": 48,
   "id": "e6fee653-4e38-4460-a876-fdfe67aa32bd",
   "metadata": {},
   "outputs": [
    {
     "data": {
      "text/plain": [
       "['Cake', 'Chocolate', 'Scoops', 'Salted caramel']"
      ]
     },
     "execution_count": 48,
     "metadata": {},
     "output_type": "execute_result"
    }
   ],
   "source": [
    "Ice_cream = ['Cake', 'Chocolate', 'Scoops']\n",
    "\n",
    "Ice_cream.append('Salted caramel')\n",
    "\n",
    "Ice_cream\n",
    "\n",
    "#good thing about list is they are changeable and we can also add and remove items from it"
   ]
  },
  {
   "cell_type": "code",
   "execution_count": 49,
   "id": "c3bbc16e-077b-48e2-bf90-6ec6099a8bc7",
   "metadata": {},
   "outputs": [
    {
     "data": {
      "text/plain": [
       "['Butter scotch', 'Chocolate', 'Scoops', 'Salted caramel']"
      ]
     },
     "execution_count": 49,
     "metadata": {},
     "output_type": "execute_result"
    }
   ],
   "source": [
    "Ice_cream[0] = 'Butter scotch'\n",
    "\n",
    "Ice_cream"
   ]
  },
  {
   "cell_type": "code",
   "execution_count": 55,
   "id": "558ccdbf-7932-4142-922b-4432fbaff323",
   "metadata": {},
   "outputs": [],
   "source": [
    "nest_list = ['Cake', 'Chocolate', 3,['Scoops', 'Spoons'],True]"
   ]
  },
  {
   "cell_type": "code",
   "execution_count": 51,
   "id": "64721fd4-f4e2-4644-81af-4e7cac52d4c7",
   "metadata": {},
   "outputs": [
    {
     "data": {
      "text/plain": [
       "'Cake'"
      ]
     },
     "execution_count": 51,
     "metadata": {},
     "output_type": "execute_result"
    }
   ],
   "source": [
    "nest_list[0]"
   ]
  },
  {
   "cell_type": "code",
   "execution_count": 57,
   "id": "f99ee0dc-c8b1-40fd-b5d0-6e2dcd808892",
   "metadata": {},
   "outputs": [
    {
     "data": {
      "text/plain": [
       "'Spoons'"
      ]
     },
     "execution_count": 57,
     "metadata": {},
     "output_type": "execute_result"
    }
   ],
   "source": [
    "nest_list[3][1]"
   ]
  },
  {
   "cell_type": "code",
   "execution_count": 58,
   "id": "2b141c54-e508-4f1b-bba2-497fb6c5f759",
   "metadata": {},
   "outputs": [],
   "source": [
    "#tuple (it can't be modified or change), typically we will use it, when data is never going to change.\n",
    "\n",
    "tuple_scoops =(103, 3,4,5) #it can store data for us"
   ]
  },
  {
   "cell_type": "code",
   "execution_count": 59,
   "id": "ed8ff2d4-5a70-4162-af5b-953e9194489d",
   "metadata": {},
   "outputs": [
    {
     "data": {
      "text/plain": [
       "(103, 3, 4, 5)"
      ]
     },
     "execution_count": 59,
     "metadata": {},
     "output_type": "execute_result"
    }
   ],
   "source": [
    "tuple()"
   ]
  },
  {
   "cell_type": "code",
   "execution_count": 60,
   "id": "869ec42c-e4bc-4b57-a9f9-979d4cd618df",
   "metadata": {},
   "outputs": [
    {
     "data": {
      "text/plain": [
       "103"
      ]
     },
     "execution_count": 60,
     "metadata": {},
     "output_type": "execute_result"
    }
   ],
   "source": [
    "tuple_scoops[0]"
   ]
  },
  {
   "cell_type": "code",
   "execution_count": 61,
   "id": "822a1428-18ff-4817-add7-0fa6f2617048",
   "metadata": {},
   "outputs": [
    {
     "ename": "AttributeError",
     "evalue": "'tuple' object has no attribute 'append'",
     "output_type": "error",
     "traceback": [
      "\u001b[1;31m---------------------------------------------------------------------------\u001b[0m",
      "\u001b[1;31mAttributeError\u001b[0m                            Traceback (most recent call last)",
      "Cell \u001b[1;32mIn[61], line 1\u001b[0m\n\u001b[1;32m----> 1\u001b[0m tuple_scoops\u001b[38;5;241m.\u001b[39mappend(\u001b[38;5;241m5\u001b[39m)\n",
      "\u001b[1;31mAttributeError\u001b[0m: 'tuple' object has no attribute 'append'"
     ]
    }
   ],
   "source": [
    "tuple_scoops.append(5)"
   ]
  },
  {
   "cell_type": "code",
   "execution_count": 67,
   "id": "bc1b70c2-b13d-4486-8d68-233faab683a8",
   "metadata": {},
   "outputs": [],
   "source": [
    "# Sets (they are somewhat similar to list and tuple but littel bit different because they don't have any duplicate items and aother big difference is there values in sets can't be access with index because it dosen't have index, because its actually unorderd.)\n",
    "\n",
    "daily_pints = {1,2,3}"
   ]
  },
  {
   "cell_type": "code",
   "execution_count": 68,
   "id": "15399bec-c72f-4ef9-844b-bbecc72323c7",
   "metadata": {},
   "outputs": [
    {
     "data": {
      "text/plain": [
       "set"
      ]
     },
     "execution_count": 68,
     "metadata": {},
     "output_type": "execute_result"
    }
   ],
   "source": [
    "type(daily_pints)"
   ]
  },
  {
   "cell_type": "code",
   "execution_count": 69,
   "id": "833a4419-f0b6-40aa-b039-8186cfd88875",
   "metadata": {},
   "outputs": [
    {
     "name": "stdout",
     "output_type": "stream",
     "text": [
      "{1, 2, 3}\n"
     ]
    }
   ],
   "source": [
    "print(daily_pints)"
   ]
  },
  {
   "cell_type": "code",
   "execution_count": 81,
   "id": "5e061aee-1ce9-48ef-8c06-694100a36286",
   "metadata": {},
   "outputs": [],
   "source": [
    "daily_pints_log = {11,33,2,3,66,8,9}"
   ]
  },
  {
   "cell_type": "code",
   "execution_count": 82,
   "id": "7a350d1b-1a00-441c-960a-44ab30cf1570",
   "metadata": {},
   "outputs": [
    {
     "name": "stdout",
     "output_type": "stream",
     "text": [
      "{33, 2, 3, 66, 8, 9, 11}\n"
     ]
    }
   ],
   "source": [
    "print(daily_pints_log)"
   ]
  },
  {
   "cell_type": "code",
   "execution_count": 78,
   "id": "c722c875-df21-4d61-88d2-02aeaa3eb237",
   "metadata": {},
   "outputs": [],
   "source": [
    "employee_pints_log = {1,8,9,10}"
   ]
  },
  {
   "cell_type": "code",
   "execution_count": 79,
   "id": "59fa7713-ee85-4aba-97ba-9793fa8d629b",
   "metadata": {},
   "outputs": [
    {
     "name": "stdout",
     "output_type": "stream",
     "text": [
      "{33, 2, 3, 66, 1, 8, 9, 10, 11}\n"
     ]
    }
   ],
   "source": [
    "print(daily_pints_log | employee_pints_log)"
   ]
  },
  {
   "cell_type": "code",
   "execution_count": 83,
   "id": "c6943a06-b530-4c0e-aa6a-4c381be353bc",
   "metadata": {},
   "outputs": [
    {
     "name": "stdout",
     "output_type": "stream",
     "text": [
      "{8, 9}\n"
     ]
    }
   ],
   "source": [
    "print(daily_pints_log & employee_pints_log)"
   ]
  },
  {
   "cell_type": "code",
   "execution_count": 85,
   "id": "031efeac-94b5-48b6-8046-373028fdf4e0",
   "metadata": {},
   "outputs": [
    {
     "name": "stdout",
     "output_type": "stream",
     "text": [
      "{1, 10}\n"
     ]
    }
   ],
   "source": [
    "print(employee_pints_log - daily_pints_log)"
   ]
  },
  {
   "cell_type": "code",
   "execution_count": 86,
   "id": "60c691e3-68bd-4bed-9a42-49d29dda6c4e",
   "metadata": {},
   "outputs": [
    {
     "name": "stdout",
     "output_type": "stream",
     "text": [
      "{1, 2, 3, 66, 10, 11, 33}\n"
     ]
    }
   ],
   "source": [
    "print(employee_pints_log ^ daily_pints_log)"
   ]
  },
  {
   "cell_type": "code",
   "execution_count": 87,
   "id": "10ba70e4-fae8-4357-9763-41f5fc212a58",
   "metadata": {},
   "outputs": [],
   "source": [
    "#Dictionary\n",
    "#Key/value pair\n",
    "\n",
    "dict_cream = {'name': 'Maria', 'weekly intake': 6, 'Favourite food' : ['Noodle', 'Biryani']}"
   ]
  },
  {
   "cell_type": "code",
   "execution_count": 88,
   "id": "2c10ede1-8491-4e2f-b6f7-6de97d339af1",
   "metadata": {},
   "outputs": [
    {
     "data": {
      "text/plain": [
       "dict"
      ]
     },
     "execution_count": 88,
     "metadata": {},
     "output_type": "execute_result"
    }
   ],
   "source": [
    "type(dict_cream)"
   ]
  },
  {
   "cell_type": "code",
   "execution_count": 89,
   "id": "795687c2-889c-45aa-b3bf-cfc504fc4a42",
   "metadata": {},
   "outputs": [
    {
     "name": "stdout",
     "output_type": "stream",
     "text": [
      "{'name': 'Maria', 'weekly intake': 6, 'Favourite food': ['Noodle', 'Biryani']}\n"
     ]
    }
   ],
   "source": [
    "print(dict_cream)"
   ]
  },
  {
   "cell_type": "code",
   "execution_count": 90,
   "id": "e289b8ec-77b7-4ae2-bacb-8afe7fd2060f",
   "metadata": {},
   "outputs": [
    {
     "data": {
      "text/plain": [
       "dict_values(['Maria', 6, ['Noodle', 'Biryani']])"
      ]
     },
     "execution_count": 90,
     "metadata": {},
     "output_type": "execute_result"
    }
   ],
   "source": [
    "dict_cream.values()"
   ]
  },
  {
   "cell_type": "code",
   "execution_count": 91,
   "id": "19475b93-3e52-4370-bde7-da0f135220bf",
   "metadata": {},
   "outputs": [
    {
     "data": {
      "text/plain": [
       "dict_keys(['name', 'weekly intake', 'Favourite food'])"
      ]
     },
     "execution_count": 91,
     "metadata": {},
     "output_type": "execute_result"
    }
   ],
   "source": [
    "dict_cream.keys()"
   ]
  },
  {
   "cell_type": "code",
   "execution_count": 92,
   "id": "02494890-60a4-4ec5-9e64-7797238b3866",
   "metadata": {},
   "outputs": [
    {
     "data": {
      "text/plain": [
       "dict_items([('name', 'Maria'), ('weekly intake', 6), ('Favourite food', ['Noodle', 'Biryani'])])"
      ]
     },
     "execution_count": 92,
     "metadata": {},
     "output_type": "execute_result"
    }
   ],
   "source": [
    "dict_cream.items()"
   ]
  },
  {
   "cell_type": "code",
   "execution_count": 93,
   "id": "0d548dc5-9c7a-49d8-a377-7515eb57cee2",
   "metadata": {},
   "outputs": [
    {
     "ename": "KeyError",
     "evalue": "0",
     "output_type": "error",
     "traceback": [
      "\u001b[1;31m---------------------------------------------------------------------------\u001b[0m",
      "\u001b[1;31mKeyError\u001b[0m                                  Traceback (most recent call last)",
      "Cell \u001b[1;32mIn[93], line 1\u001b[0m\n\u001b[1;32m----> 1\u001b[0m dict_cream[\u001b[38;5;241m0\u001b[39m]\n",
      "\u001b[1;31mKeyError\u001b[0m: 0"
     ]
    }
   ],
   "source": [
    "dict_cream[0]\n",
    "\n",
    "#We can't call it like this because it has keys and we can call it with keys"
   ]
  },
  {
   "cell_type": "code",
   "execution_count": 94,
   "id": "107bb724-1331-4fe5-8b12-876051d172a6",
   "metadata": {},
   "outputs": [
    {
     "data": {
      "text/plain": [
       "'Maria'"
      ]
     },
     "execution_count": 94,
     "metadata": {},
     "output_type": "execute_result"
    }
   ],
   "source": [
    "dict_cream['name']"
   ]
  },
  {
   "cell_type": "code",
   "execution_count": 96,
   "id": "ca91d5d8-fa0d-4c17-be0b-91f527e418a7",
   "metadata": {},
   "outputs": [
    {
     "name": "stdout",
     "output_type": "stream",
     "text": [
      "{'name': 'Maria Asif', 'weekly intake': 6, 'Favourite food': ['Noodle', 'Biryani']}\n"
     ]
    }
   ],
   "source": [
    "dict_cream['name'] = 'Maria Asif'\n",
    "\n",
    "print(dict_cream)"
   ]
  },
  {
   "cell_type": "code",
   "execution_count": 101,
   "id": "4771c727-5917-4dfb-b651-d32a1c93da42",
   "metadata": {},
   "outputs": [
    {
     "name": "stdout",
     "output_type": "stream",
     "text": [
      "{'name': 'Maria Asif', 'weekly intake': 10, 'Favourite food': ['Noodle', 'Biryani'], 'Favourite': ['Noodle', 'Biryani'], 'weight': 300}\n"
     ]
    }
   ],
   "source": [
    "dict_cream.update({'name': 'Maria Asif', 'weekly intake': 10, 'Favourite': ['Noodle', 'Biryani'], 'weight' : 300})\n",
    "\n",
    "print(dict_cream)"
   ]
  },
  {
   "cell_type": "code",
   "execution_count": 102,
   "id": "b7ab7f30-227c-44b3-bae6-cab8bc06d4db",
   "metadata": {},
   "outputs": [
    {
     "name": "stdout",
     "output_type": "stream",
     "text": [
      "{'name': 'Maria Asif', 'weekly intake': 10, 'Favourite food': ['Noodle', 'Biryani'], 'Favourite': ['Noodle', 'Biryani']}\n"
     ]
    }
   ],
   "source": [
    "del dict_cream['weight']\n",
    "\n",
    "print(dict_cream)"
   ]
  }
 ],
 "metadata": {
  "kernelspec": {
   "display_name": "Python [conda env:base] *",
   "language": "python",
   "name": "conda-base-py"
  },
  "language_info": {
   "codemirror_mode": {
    "name": "ipython",
    "version": 3
   },
   "file_extension": ".py",
   "mimetype": "text/x-python",
   "name": "python",
   "nbconvert_exporter": "python",
   "pygments_lexer": "ipython3",
   "version": "3.13.5"
  }
 },
 "nbformat": 4,
 "nbformat_minor": 5
}
