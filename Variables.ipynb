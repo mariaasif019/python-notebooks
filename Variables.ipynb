{
 "cells": [
  {
   "cell_type": "code",
   "execution_count": 1,
   "id": "ba37df44-5ab5-4887-8d8e-0ff1aab94c5c",
   "metadata": {},
   "outputs": [
    {
     "name": "stdout",
     "output_type": "stream",
     "text": [
      "22\n"
     ]
    }
   ],
   "source": [
    "x = 22\n",
    "\n",
    "print(x)"
   ]
  },
  {
   "cell_type": "code",
   "execution_count": 2,
   "id": "5c419e5d-6e58-45a4-a66d-b4b1e377767c",
   "metadata": {},
   "outputs": [
    {
     "data": {
      "text/plain": [
       "int"
      ]
     },
     "execution_count": 2,
     "metadata": {},
     "output_type": "execute_result"
    }
   ],
   "source": [
    "type(x)"
   ]
  },
  {
   "cell_type": "code",
   "execution_count": 3,
   "id": "089f60ed-a200-451c-a186-db66c787dffd",
   "metadata": {},
   "outputs": [
    {
     "name": "stdout",
     "output_type": "stream",
     "text": [
      "Noodles\n"
     ]
    }
   ],
   "source": [
    "y = 'Noodles'\n",
    "\n",
    "print(y)"
   ]
  },
  {
   "cell_type": "code",
   "execution_count": 4,
   "id": "3112cff4-6126-4816-b2d2-a988bf900726",
   "metadata": {},
   "outputs": [
    {
     "data": {
      "text/plain": [
       "str"
      ]
     },
     "execution_count": 4,
     "metadata": {},
     "output_type": "execute_result"
    }
   ],
   "source": [
    "type(y)"
   ]
  },
  {
   "cell_type": "code",
   "execution_count": 9,
   "id": "e225cd36-dc90-48d0-b4a8-c8598a777f57",
   "metadata": {},
   "outputs": [
    {
     "name": "stdout",
     "output_type": "stream",
     "text": [
      "Noodles\n"
     ]
    }
   ],
   "source": [
    "y1 = 'cake'\n",
    "\n",
    "y = 'Noodles'\n",
    "\n",
    "print(y)"
   ]
  },
  {
   "cell_type": "code",
   "execution_count": 10,
   "id": "93c02013-81c6-44af-b38d-64c81c0f0265",
   "metadata": {},
   "outputs": [
    {
     "name": "stdout",
     "output_type": "stream",
     "text": [
      "Cake\n",
      "Noodles\n",
      "Design\n"
     ]
    }
   ],
   "source": [
    "x,y,z = 'Cake', 'Noodles', 'Design'\n",
    "\n",
    "print(x)\n",
    "print(y)\n",
    "print(z)"
   ]
  },
  {
   "cell_type": "code",
   "execution_count": 11,
   "id": "cd5cdddb-76bb-4eac-a991-cbc4f08b032a",
   "metadata": {},
   "outputs": [
    {
     "name": "stdout",
     "output_type": "stream",
     "text": [
      "Daisy lazy swiss\n",
      "Daisy lazy swiss\n",
      "Daisy lazy swiss\n"
     ]
    }
   ],
   "source": [
    "x=y=z = 'Daisy lazy swiss'\n",
    "\n",
    "print(x)\n",
    "print(y)\n",
    "print(z)"
   ]
  },
  {
   "cell_type": "code",
   "execution_count": 12,
   "id": "08478e12-aad0-4f44-8548-dc196c73cc31",
   "metadata": {},
   "outputs": [
    {
     "name": "stdout",
     "output_type": "stream",
     "text": [
      "Chocolate\n",
      "Milk\n",
      "Biscuit\n"
     ]
    }
   ],
   "source": [
    "ice_cream = ['Chocolate', 'Milk', 'Biscuit']\n",
    "\n",
    "x,y,z = ice_cream\n",
    "\n",
    "print(x)\n",
    "print(y)\n",
    "print(z)"
   ]
  },
  {
   "cell_type": "code",
   "execution_count": null,
   "id": "7e45bdb0-6408-4cde-939e-3f161c707698",
   "metadata": {},
   "outputs": [],
   "source": [
    "# Down below is the example of naming variables "
   ]
  },
  {
   "cell_type": "code",
   "execution_count": null,
   "id": "6e6aa5b7",
   "metadata": {},
   "outputs": [],
   "source": [
    "# camel case\n",
    "\n",
    "# test variable case\n",
    "\n",
    "testVariableCase = 'Vanilla swirl'"
   ]
  },
  {
   "cell_type": "code",
   "execution_count": null,
   "id": "16c77b5f",
   "metadata": {},
   "outputs": [],
   "source": [
    "# Pascal case\n",
    "\n",
    "# test variable case\n",
    "\n",
    "TestVariableCase = 'Vanilla swirl'"
   ]
  },
  {
   "cell_type": "code",
   "execution_count": null,
   "id": "8b3ed6f5",
   "metadata": {},
   "outputs": [],
   "source": [
    "# Snake case\n",
    "\n",
    "# test variable case\n",
    "\n",
    "test_variable_case = 'Vanilla swirl'"
   ]
  },
  {
   "cell_type": "code",
   "execution_count": null,
   "id": "3dad1598",
   "metadata": {},
   "outputs": [],
   "source": [
    "# These are good variables name\n",
    "\n",
    "testvar = 'Vanilla swirl'\n",
    "test_var = 'Vanilla swirl'\n",
    "_test_var = 'Vanilla swirl'\n",
    "testVar = 'Vanilla swirl'\n",
    "TestVar = 'Vanilla swirl'\n",
    "testvar2 = 'Vanilla swirl'"
   ]
  },
  {
   "cell_type": "code",
   "execution_count": 13,
   "id": "a4e55b78",
   "metadata": {},
   "outputs": [
    {
     "ename": "SyntaxError",
     "evalue": "invalid decimal literal (2053990094.py, line 3)",
     "output_type": "error",
     "traceback": [
      "\u001b[1;36m  Cell \u001b[1;32mIn[13], line 3\u001b[1;36m\u001b[0m\n\u001b[1;33m    2testvar = 'Vanilla swirl'\u001b[0m\n\u001b[1;37m    ^\u001b[0m\n\u001b[1;31mSyntaxError\u001b[0m\u001b[1;31m:\u001b[0m invalid decimal literal\n"
     ]
    }
   ],
   "source": [
    "# Avoid doing this\n",
    "\n",
    "2testvar = 'Vanilla swirl'\n",
    "test-var = 'Vanilla swirl'\n",
    "test var = 'Vanilla swirl'\n",
    "test,var = 'Vanilla swirl'"
   ]
  },
  {
   "cell_type": "code",
   "execution_count": 15,
   "id": "fb0133fa",
   "metadata": {},
   "outputs": [
    {
     "name": "stdout",
     "output_type": "stream",
     "text": [
      "Chocalate is my favourite\n"
     ]
    }
   ],
   "source": [
    "# Operators with variables\n",
    "\n",
    "x = 'Chocalate is my favourite'\n",
    "\n",
    "print(x)"
   ]
  },
  {
   "cell_type": "code",
   "execution_count": 16,
   "id": "b71fc1b1",
   "metadata": {},
   "outputs": [
    {
     "ename": "TypeError",
     "evalue": "can only concatenate str (not \"int\") to str",
     "output_type": "error",
     "traceback": [
      "\u001b[1;31m---------------------------------------------------------------------------\u001b[0m",
      "\u001b[1;31mTypeError\u001b[0m                                 Traceback (most recent call last)",
      "Cell \u001b[1;32mIn[16], line 3\u001b[0m\n\u001b[0;32m      1\u001b[0m \u001b[38;5;66;03m# Avoid doing this\u001b[39;00m\n\u001b[1;32m----> 3\u001b[0m x \u001b[38;5;241m=\u001b[39m \u001b[38;5;124m'\u001b[39m\u001b[38;5;124mChocalate is my favourite\u001b[39m\u001b[38;5;124m'\u001b[39m \u001b[38;5;241m+\u001b[39m \u001b[38;5;241m2\u001b[39m\n\u001b[0;32m      5\u001b[0m \u001b[38;5;28mprint\u001b[39m(x)\n",
      "\u001b[1;31mTypeError\u001b[0m: can only concatenate str (not \"int\") to str"
     ]
    }
   ],
   "source": [
    "# Avoid doing this\n",
    "\n",
    "x = 'Chocalate is my favourite' + 2\n",
    "\n",
    "print(x)"
   ]
  },
  {
   "cell_type": "code",
   "execution_count": 17,
   "id": "ec8737b2",
   "metadata": {},
   "outputs": [
    {
     "name": "stdout",
     "output_type": "stream",
     "text": [
      "7\n"
     ]
    }
   ],
   "source": [
    "y = 2 + 5\n",
    "\n",
    "print(y)"
   ]
  },
  {
   "cell_type": "code",
   "execution_count": 18,
   "id": "bee0600c",
   "metadata": {},
   "outputs": [
    {
     "name": "stdout",
     "output_type": "stream",
     "text": [
      "Ice_cream is my favourite\n"
     ]
    }
   ],
   "source": [
    "x = 'Ice_cream'\n",
    "y = ' is'\n",
    "z = ' my favourite'\n",
    "\n",
    "print(x+y+z)"
   ]
  },
  {
   "cell_type": "code",
   "execution_count": 19,
   "id": "000a4a7f-eb57-40fb-b03f-ed94708f7905",
   "metadata": {},
   "outputs": [
    {
     "name": "stdout",
     "output_type": "stream",
     "text": [
      "23\n"
     ]
    }
   ],
   "source": [
    "x = 6\n",
    "y = 8\n",
    "z = 9\n",
    "\n",
    "print(x+y+z)"
   ]
  },
  {
   "cell_type": "code",
   "execution_count": 20,
   "id": "dbb32fa5-d5e3-4081-9030-6d100b8463c7",
   "metadata": {},
   "outputs": [
    {
     "ename": "TypeError",
     "evalue": "unsupported operand type(s) for +: 'int' and 'str'",
     "output_type": "error",
     "traceback": [
      "\u001b[1;31m---------------------------------------------------------------------------\u001b[0m",
      "\u001b[1;31mTypeError\u001b[0m                                 Traceback (most recent call last)",
      "Cell \u001b[1;32mIn[20], line 7\u001b[0m\n\u001b[0;32m      4\u001b[0m y \u001b[38;5;241m=\u001b[39m \u001b[38;5;124m'\u001b[39m\u001b[38;5;124m is\u001b[39m\u001b[38;5;124m'\u001b[39m\n\u001b[0;32m      5\u001b[0m z \u001b[38;5;241m=\u001b[39m \u001b[38;5;124m'\u001b[39m\u001b[38;5;124m my favourite\u001b[39m\u001b[38;5;124m'\u001b[39m\n\u001b[1;32m----> 7\u001b[0m \u001b[38;5;28mprint\u001b[39m(x\u001b[38;5;241m+\u001b[39my\u001b[38;5;241m+\u001b[39mz)\n",
      "\u001b[1;31mTypeError\u001b[0m: unsupported operand type(s) for +: 'int' and 'str'"
     ]
    }
   ],
   "source": [
    "# Avoid doing this\n",
    "\n",
    "x = 6\n",
    "y = ' is'\n",
    "z = ' my favourite'\n",
    "\n",
    "print(x+y+z)"
   ]
  },
  {
   "cell_type": "code",
   "execution_count": 21,
   "id": "98fa98a5-937f-4c68-97fc-1a9bf0d5a8d8",
   "metadata": {},
   "outputs": [
    {
     "name": "stdout",
     "output_type": "stream",
     "text": [
      "6  is  my favourite\n"
     ]
    }
   ],
   "source": [
    "# But we can do this\n",
    "\n",
    "x = 6\n",
    "y = ' is'\n",
    "z = ' my favourite'\n",
    "\n",
    "print(x,y,z)"
   ]
  }
 ],
 "metadata": {
  "kernelspec": {
   "display_name": "Python [conda env:base] *",
   "language": "python",
   "name": "conda-base-py"
  },
  "language_info": {
   "codemirror_mode": {
    "name": "ipython",
    "version": 3
   },
   "file_extension": ".py",
   "mimetype": "text/x-python",
   "name": "python",
   "nbconvert_exporter": "python",
   "pygments_lexer": "ipython3",
   "version": "3.13.5"
  }
 },
 "nbformat": 4,
 "nbformat_minor": 5
}
