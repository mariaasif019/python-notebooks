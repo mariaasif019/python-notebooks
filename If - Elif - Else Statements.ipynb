{
 "cells": [
  {
   "cell_type": "code",
   "execution_count": null,
   "id": "e823996a-c15b-4e9d-b9a7-264f296987c1",
   "metadata": {},
   "outputs": [],
   "source": [
    "#If condition - True - body of if\n",
    "\n",
    "#If condition - False - elif condition - True - body of elif\n",
    "\n",
    "#Elif condition - False - body of else"
   ]
  },
  {
   "cell_type": "code",
   "execution_count": 1,
   "id": "d16acd0b-38cd-42e1-98ae-0a74f8f9ac11",
   "metadata": {},
   "outputs": [
    {
     "name": "stdout",
     "output_type": "stream",
     "text": [
      "It worked\n"
     ]
    }
   ],
   "source": [
    "if 25 > 10:\n",
    "    print('It worked')"
   ]
  },
  {
   "cell_type": "code",
   "execution_count": 3,
   "id": "2d1faad8-6968-483e-b76f-f068f1ac185a",
   "metadata": {},
   "outputs": [
    {
     "name": "stdout",
     "output_type": "stream",
     "text": [
      "It did not worked\n"
     ]
    }
   ],
   "source": [
    "if 25 < 10:\n",
    "    print('It worked')\n",
    "else:\n",
    "    print('It did not worked')"
   ]
  },
  {
   "cell_type": "code",
   "execution_count": 4,
   "id": "f80a676e-f3dc-4ded-b736-4f78c4b2b05a",
   "metadata": {},
   "outputs": [
    {
     "name": "stdout",
     "output_type": "stream",
     "text": [
      "It worked\n"
     ]
    }
   ],
   "source": [
    "if 10 < 25:\n",
    "    print('It worked')\n",
    "else:\n",
    "    print('It did not worked')"
   ]
  },
  {
   "cell_type": "code",
   "execution_count": 9,
   "id": "11eafeed-ab0a-4869-a528-263082160854",
   "metadata": {},
   "outputs": [
    {
     "name": "stdout",
     "output_type": "stream",
     "text": [
      "elif 3 worked\n"
     ]
    }
   ],
   "source": [
    "if 25 < 10:\n",
    "    print('It worked')\n",
    "elif 5 > 10:\n",
    "    print('elif worked')\n",
    "elif 2 > 9:\n",
    "    print('elif 2 worked')\n",
    "elif 25 > 8:\n",
    "    print('elif 3 worked')\n",
    "elif 1 > 7:\n",
    "    print('elif 4 worked')\n",
    "elif 2 > 6:\n",
    "    print('elif 5 worked')\n",
    "else:\n",
    "    print('It did not worked')"
   ]
  },
  {
   "cell_type": "code",
   "execution_count": 10,
   "id": "8431962a-4f0c-45c5-b4ff-284a85b5e1a0",
   "metadata": {},
   "outputs": [
    {
     "name": "stdout",
     "output_type": "stream",
     "text": [
      "It worked\n"
     ]
    }
   ],
   "source": [
    "if (25 < 10) or (1 < 3):\n",
    "    print('It worked')\n",
    "elif 5 > 10:\n",
    "    print('elif worked')\n",
    "elif 2 > 9:\n",
    "    print('elif 2 worked')\n",
    "elif 25 > 8:\n",
    "    print('elif 3 worked')\n",
    "elif 1 > 7:\n",
    "    print('elif 4 worked')\n",
    "elif 2 > 6:\n",
    "    print('elif 5 worked')\n",
    "else:\n",
    "    print('It did not worked')"
   ]
  },
  {
   "cell_type": "code",
   "execution_count": 11,
   "id": "8b13d6b7-8891-4acb-9fc6-002640d3d1a1",
   "metadata": {},
   "outputs": [
    {
     "name": "stdout",
     "output_type": "stream",
     "text": [
      "It did not worked...\n"
     ]
    }
   ],
   "source": [
    "print ('It worked!') if 10>40 else print('It did not worked...')"
   ]
  },
  {
   "cell_type": "code",
   "execution_count": 12,
   "id": "acd0e364-68cc-4334-b714-ee11cef49e38",
   "metadata": {},
   "outputs": [
    {
     "name": "stdout",
     "output_type": "stream",
     "text": [
      "It worked\n",
      "This nested if statement worked!\n"
     ]
    }
   ],
   "source": [
    "if (25 < 10) or (1 < 3):\n",
    "    print('It worked')\n",
    "    if 10 > 5:\n",
    "      print('This nested if statement worked!')  \n",
    "elif 5 > 10:\n",
    "    print('elif worked')\n",
    "elif 2 > 9:\n",
    "    print('elif 2 worked')\n",
    "elif 25 > 8:\n",
    "    print('elif 3 worked')\n",
    "elif 1 > 7:\n",
    "    print('elif 4 worked')\n",
    "elif 2 > 6:\n",
    "    print('elif 5 worked')\n",
    "else:\n",
    "    print('It did not worked')"
   ]
  }
 ],
 "metadata": {
  "kernelspec": {
   "display_name": "Python [conda env:base] *",
   "language": "python",
   "name": "conda-base-py"
  },
  "language_info": {
   "codemirror_mode": {
    "name": "ipython",
    "version": 3
   },
   "file_extension": ".py",
   "mimetype": "text/x-python",
   "name": "python",
   "nbconvert_exporter": "python",
   "pygments_lexer": "ipython3",
   "version": "3.13.5"
  }
 },
 "nbformat": 4,
 "nbformat_minor": 5
}
