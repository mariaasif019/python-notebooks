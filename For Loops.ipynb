{
 "cells": [
  {
   "cell_type": "code",
   "execution_count": 3,
   "id": "9c7d5451-faac-45b7-8cb8-10aa2e7f1ccd",
   "metadata": {},
   "outputs": [],
   "source": [
    "#For Loops\n",
    "\n",
    "integers = [1,2,3,4,5]"
   ]
  },
  {
   "cell_type": "code",
   "execution_count": 4,
   "id": "1f9e7eaa-3ff7-4e4e-b1d7-aa5e286ed2c9",
   "metadata": {},
   "outputs": [
    {
     "name": "stdout",
     "output_type": "stream",
     "text": [
      "1\n",
      "2\n",
      "3\n",
      "4\n",
      "5\n"
     ]
    }
   ],
   "source": [
    "for number in integers:\n",
    "    print(number)"
   ]
  },
  {
   "cell_type": "code",
   "execution_count": 2,
   "id": "c867e2f5-61a6-4167-808f-4b5d42e27b35",
   "metadata": {},
   "outputs": [
    {
     "name": "stdout",
     "output_type": "stream",
     "text": [
      "1\n",
      "2\n",
      "3\n",
      "4\n",
      "5\n"
     ]
    }
   ],
   "source": [
    "# Define the integers variable before using it in the loop\n",
    "integers = [1, 2, 3, 4, 5]  # You can replace this with any list of integers you want\n",
    "\n",
    "# Now the loop will work because 'integers' is defined\n",
    "for number in integers:\n",
    "    print(number)"
   ]
  },
  {
   "cell_type": "code",
   "execution_count": 5,
   "id": "951be85f-a7ed-4c42-b158-449d04c6ea7b",
   "metadata": {},
   "outputs": [
    {
     "name": "stdout",
     "output_type": "stream",
     "text": [
      "Yep!\n",
      "Yep!\n",
      "Yep!\n",
      "Yep!\n",
      "Yep!\n"
     ]
    }
   ],
   "source": [
    "for number in integers:\n",
    "    print('Yep!')"
   ]
  },
  {
   "cell_type": "code",
   "execution_count": 6,
   "id": "2869003d-a83f-45f5-b95a-c4cddef5d5ba",
   "metadata": {},
   "outputs": [],
   "source": [
    "integers = [1,2,3,4,5]"
   ]
  },
  {
   "cell_type": "code",
   "execution_count": 7,
   "id": "9d7a3f96-aaa0-49dd-b19a-089086285b8b",
   "metadata": {},
   "outputs": [
    {
     "name": "stdout",
     "output_type": "stream",
     "text": [
      "2\n",
      "4\n",
      "6\n",
      "8\n",
      "10\n"
     ]
    }
   ],
   "source": [
    "for Jelly in integers:\n",
    "    print(Jelly + Jelly)"
   ]
  },
  {
   "cell_type": "code",
   "execution_count": 8,
   "id": "c472bad4-687a-4ad4-971f-dfeeb48aed21",
   "metadata": {},
   "outputs": [],
   "source": [
    "ice_cream_dict = {'name': 'Maria Asif', 'weekly intake': 5, 'favourite food':['Biryani', 'Pizza']}"
   ]
  },
  {
   "cell_type": "code",
   "execution_count": 9,
   "id": "c4e22867-3522-49e2-9323-e62a1c3f94dc",
   "metadata": {},
   "outputs": [
    {
     "name": "stdout",
     "output_type": "stream",
     "text": [
      "Maria Asif\n",
      "5\n",
      "['Biryani', 'Pizza']\n"
     ]
    }
   ],
   "source": [
    "for cream in ice_cream_dict.values():\n",
    "    print(cream)"
   ]
  },
  {
   "cell_type": "code",
   "execution_count": 10,
   "id": "0cbb03cf-6bbc-4f3a-950e-c02453bdbb8e",
   "metadata": {},
   "outputs": [
    {
     "name": "stdout",
     "output_type": "stream",
     "text": [
      "name -> Maria Asif\n",
      "weekly intake -> 5\n",
      "favourite food -> ['Biryani', 'Pizza']\n"
     ]
    }
   ],
   "source": [
    "for key, value in ice_cream_dict.items():\n",
    "    print(key, '->', value)"
   ]
  },
  {
   "cell_type": "code",
   "execution_count": 13,
   "id": "43e02b25-f0b4-4fe0-96bc-e9f2cb473322",
   "metadata": {},
   "outputs": [],
   "source": [
    "#Nested For Loops\n",
    "\n",
    "Flavors = ['Vanilla', 'Mango', 'Chocolate']\n",
    "toppings = ['Brownie fudge', 'Sprinkle', 'Marshmallows']"
   ]
  },
  {
   "cell_type": "code",
   "execution_count": 15,
   "id": "c7cc5496-53e2-4664-b402-a38131e968b6",
   "metadata": {},
   "outputs": [
    {
     "name": "stdout",
     "output_type": "stream",
     "text": [
      "Vanilla topped with Brownie fudge\n",
      "Vanilla topped with Sprinkle\n",
      "Vanilla topped with Marshmallows\n",
      "Mango topped with Brownie fudge\n",
      "Mango topped with Sprinkle\n",
      "Mango topped with Marshmallows\n",
      "Chocolate topped with Brownie fudge\n",
      "Chocolate topped with Sprinkle\n",
      "Chocolate topped with Marshmallows\n"
     ]
    }
   ],
   "source": [
    "for one in Flavors:\n",
    "    for two in toppings:\n",
    "        print(one, 'topped with', two)"
   ]
  },
  {
   "cell_type": "code",
   "execution_count": 16,
   "id": "9818e4c6-621c-4c94-ac8c-41bdbf7cbb9d",
   "metadata": {},
   "outputs": [],
   "source": [
    "#Practice\n",
    "\n",
    "integers = [1,2,3,4,5]"
   ]
  },
  {
   "cell_type": "code",
   "execution_count": 17,
   "id": "3bd8e11b-71fc-4d8f-be45-c89c1df39b49",
   "metadata": {},
   "outputs": [
    {
     "name": "stdout",
     "output_type": "stream",
     "text": [
      "1\n",
      "2\n",
      "3\n",
      "4\n",
      "5\n"
     ]
    }
   ],
   "source": [
    "for number in integers:\n",
    "    print(number)"
   ]
  },
  {
   "cell_type": "code",
   "execution_count": 18,
   "id": "81e3f87b-ed9d-4472-bd11-ddf723005f8b",
   "metadata": {},
   "outputs": [
    {
     "name": "stdout",
     "output_type": "stream",
     "text": [
      "Yahoo!!!\n",
      "Yahoo!!!\n",
      "Yahoo!!!\n",
      "Yahoo!!!\n",
      "Yahoo!!!\n"
     ]
    }
   ],
   "source": [
    "for number in integers:\n",
    "    print('Yahoo!!!')"
   ]
  },
  {
   "cell_type": "code",
   "execution_count": 19,
   "id": "c22b348c-00bf-4ec8-81c3-5915d1f336ef",
   "metadata": {},
   "outputs": [
    {
     "name": "stdout",
     "output_type": "stream",
     "text": [
      "2\n",
      "4\n",
      "6\n",
      "8\n",
      "10\n"
     ]
    }
   ],
   "source": [
    "for potato in integers:\n",
    "    print(potato + potato)"
   ]
  },
  {
   "cell_type": "code",
   "execution_count": 22,
   "id": "c64727a5-596a-4864-b1ca-2249f30adb98",
   "metadata": {},
   "outputs": [
    {
     "name": "stdout",
     "output_type": "stream",
     "text": [
      "8\n",
      "16\n",
      "24\n",
      "32\n",
      "40\n"
     ]
    }
   ],
   "source": [
    "for potato in integers:\n",
    "    print(potato * 8)\n"
   ]
  },
  {
   "cell_type": "code",
   "execution_count": 23,
   "id": "ca8dd546-0f9d-4fe0-9c9d-e4784d70538c",
   "metadata": {},
   "outputs": [],
   "source": [
    "weekly_report_dict = {'name': 'Maria Asif', 'weekly_intake': 5, 'food':['biryani', 'pizza']}"
   ]
  },
  {
   "cell_type": "code",
   "execution_count": 24,
   "id": "20150057-1548-4be0-8599-ef9dec12d795",
   "metadata": {},
   "outputs": [
    {
     "name": "stdout",
     "output_type": "stream",
     "text": [
      "Maria Asif\n",
      "5\n",
      "['biryani', 'pizza']\n"
     ]
    }
   ],
   "source": [
    "for report in weekly_report_dict.values():\n",
    "    print(report)"
   ]
  },
  {
   "cell_type": "code",
   "execution_count": 26,
   "id": "88c755fa-bd61-4c5b-b87a-10f9f4cb05e2",
   "metadata": {},
   "outputs": [
    {
     "name": "stdout",
     "output_type": "stream",
     "text": [
      "name -> Maria Asif\n",
      "weekly_intake -> 5\n",
      "food -> ['biryani', 'pizza']\n"
     ]
    }
   ],
   "source": [
    "for key, value in weekly_report_dict.items():\n",
    "    print(key, '->', value)"
   ]
  },
  {
   "cell_type": "code",
   "execution_count": 27,
   "id": "e8a5fa66-d67c-48e7-8247-ee3f8adbe991",
   "metadata": {},
   "outputs": [],
   "source": [
    "#nested for loops\n",
    "\n",
    "flavors = ['vanilla', 'brownie fudge', 'cookie dough']\n",
    "toppings =['sprinkle', 'marshmallows', 'chocolate']"
   ]
  },
  {
   "cell_type": "code",
   "execution_count": 28,
   "id": "c070491b-249b-49d5-a00b-3f61c533419d",
   "metadata": {},
   "outputs": [
    {
     "name": "stdout",
     "output_type": "stream",
     "text": [
      "vanilla topped with sprinkle\n",
      "vanilla topped with marshmallows\n",
      "vanilla topped with chocolate\n",
      "brownie fudge topped with sprinkle\n",
      "brownie fudge topped with marshmallows\n",
      "brownie fudge topped with chocolate\n",
      "cookie dough topped with sprinkle\n",
      "cookie dough topped with marshmallows\n",
      "cookie dough topped with chocolate\n"
     ]
    }
   ],
   "source": [
    "for one in flavors:\n",
    "    for two in toppings:\n",
    "        print(one, 'topped with', two)"
   ]
  }
 ],
 "metadata": {
  "kernelspec": {
   "display_name": "Python [conda env:base] *",
   "language": "python",
   "name": "conda-base-py"
  },
  "language_info": {
   "codemirror_mode": {
    "name": "ipython",
    "version": 3
   },
   "file_extension": ".py",
   "mimetype": "text/x-python",
   "name": "python",
   "nbconvert_exporter": "python",
   "pygments_lexer": "ipython3",
   "version": "3.13.5"
  }
 },
 "nbformat": 4,
 "nbformat_minor": 5
}
